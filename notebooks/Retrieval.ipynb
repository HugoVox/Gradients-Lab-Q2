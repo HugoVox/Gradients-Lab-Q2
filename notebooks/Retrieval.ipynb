{
 "cells": [
  {
   "cell_type": "code",
   "execution_count": 1,
   "metadata": {},
   "outputs": [],
   "source": [
    "from sentence_transformers import SentenceTransformer\n",
    "from datasets import load_dataset\n",
    "import pandas as pd\n",
    "import numpy as np"
   ]
  },
  {
   "cell_type": "code",
   "execution_count": 3,
   "metadata": {},
   "outputs": [],
   "source": [
    "wiki = load_dataset('wiki_snippets', 'wiki40b_en_100_0', split='train')\n",
    "eli5 = load_dataset('eli5', split='train_eli5')"
   ]
  },
  {
   "cell_type": "code",
   "execution_count": 5,
   "metadata": {},
   "outputs": [
    {
     "data": {
      "text/plain": [
       "35649"
      ]
     },
     "execution_count": 5,
     "metadata": {},
     "output_type": "execute_result"
    }
   ],
   "source": [
    "random_question_id = np.random.randint(0, len(eli5))\n",
    "random_question_id"
   ]
  },
  {
   "cell_type": "code",
   "execution_count": 6,
   "metadata": {},
   "outputs": [],
   "source": [
    "import psycopg2\n",
    "\n",
    "conn = psycopg2.connect(database=\"eli5\",\n",
    "                        host=\"127.0.0.1\",\n",
    "                        user=\"admin\",\n",
    "                        password=\"1234\",\n",
    "                        port=\"6000\")\n",
    "\n",
    "cursor = conn.cursor()\n",
    "\n",
    "query = 'SELECT * FROM wiki40b;'\n",
    "\n",
    "cursor.execute(query)\n",
    "data =cursor.fetchall()"
   ]
  },
  {
   "cell_type": "code",
   "execution_count": 7,
   "metadata": {},
   "outputs": [],
   "source": [
    "sbert_model = SentenceTransformer('sentence-transformers/bert-base-nli-mean-tokens')"
   ]
  },
  {
   "cell_type": "code",
   "execution_count": 8,
   "metadata": {},
   "outputs": [],
   "source": [
    "def cosine_similarity(x, y):\n",
    "    x = np.asarray(x, dtype='float64')\n",
    "    y = np.asarray(y, dtype='float64')\n",
    "    return np.dot(x, y) / (np.linalg.norm(x) * np.linalg.norm(y))"
   ]
  },
  {
   "cell_type": "code",
   "execution_count": 9,
   "metadata": {},
   "outputs": [],
   "source": [
    "def sort_key(item):\n",
    "    return item[2]"
   ]
  },
  {
   "cell_type": "code",
   "execution_count": 10,
   "metadata": {},
   "outputs": [],
   "source": [
    "question = eli5[random_question_id]['title']\n",
    "q_embed = sbert_model.encode(question)"
   ]
  },
  {
   "cell_type": "code",
   "execution_count": 11,
   "metadata": {},
   "outputs": [],
   "source": [
    "for item_idx in range(len(data)):\n",
    "    ref_emb = data[item_idx][1]\n",
    "    ref = ref_emb[1:-1].split(',')\n",
    "    ref = np.array([float(x) for x in ref])\n",
    "    assert type(ref) == type(q_embed)\n",
    "    item_similarity = cosine_similarity(q_embed, ref)\n",
    "    data[item_idx] = data[item_idx] + (item_similarity,)\n",
    "data.sort(key = lambda row: row[2], reverse=True)"
   ]
  },
  {
   "cell_type": "code",
   "execution_count": 12,
   "metadata": {},
   "outputs": [],
   "source": [
    "top_5 = data[:5]"
   ]
  },
  {
   "cell_type": "code",
   "execution_count": 13,
   "metadata": {},
   "outputs": [],
   "source": [
    "df = pd.DataFrame({\n",
    "    question: [wiki[x]['passage_text'] for x in [x[0] for x in top_5]] \n",
    "}\n",
    ")"
   ]
  },
  {
   "cell_type": "code",
   "execution_count": 14,
   "metadata": {},
   "outputs": [
    {
     "data": {
      "text/html": [
       "<style type=\"text/css\">\n",
       "#T_05a0d_row0_col0, #T_05a0d_row1_col0, #T_05a0d_row2_col0, #T_05a0d_row3_col0, #T_05a0d_row4_col0 {\n",
       "  text-align: left;\n",
       "}\n",
       "</style>\n",
       "<table id=\"T_05a0d\">\n",
       "  <thead>\n",
       "    <tr>\n",
       "      <th class=\"blank level0\" >&nbsp;</th>\n",
       "      <th id=\"T_05a0d_level0_col0\" class=\"col_heading level0 col0\" >The theory of parallel worlds/universes</th>\n",
       "    </tr>\n",
       "  </thead>\n",
       "  <tbody>\n",
       "    <tr>\n",
       "      <th id=\"T_05a0d_level0_row0\" class=\"row_heading level0 row0\" >0</th>\n",
       "      <td id=\"T_05a0d_row0_col0\" class=\"data row0 col0\" >relativity, which was according to him an accumulation of \"absurdities\" (like the constancy of the speed of light) and \"mathematical fictions\".</td>\n",
       "    </tr>\n",
       "    <tr>\n",
       "      <th id=\"T_05a0d_level0_row1\" class=\"row_heading level0 row1\" >1</th>\n",
       "      <td id=\"T_05a0d_row1_col0\" class=\"data row1 col0\" >the universe besides Earth.</td>\n",
       "    </tr>\n",
       "    <tr>\n",
       "      <th id=\"T_05a0d_level0_row2\" class=\"row_heading level0 row2\" >2</th>\n",
       "      <td id=\"T_05a0d_row2_col0\" class=\"data row2 col0\" >be confused with descriptions of the terrestrial hemispheres of Earth itself.</td>\n",
       "    </tr>\n",
       "    <tr>\n",
       "      <th id=\"T_05a0d_level0_row3\" class=\"row_heading level0 row3\" >3</th>\n",
       "      <td id=\"T_05a0d_row3_col0\" class=\"data row3 col0\" >of Goodman's paradox and were also used for the analysis of the thought experiments and paradoxes related to the Doomsday argument. In the typology of n-universes, it is worth distinguishing:\n",
       "- according to whether they comprise constant-criteria or/and variable-criteria (space, time, color, shape, temperature, etc.)\n",
       "- according to whether they comprise one or more objects\n",
       "- according to whether a given criterion is or not with demultiplication\n",
       "- according to whether the objects are in relation one-one or many-one with a given criterion\n",
       "The n-universes proceed of a double inspiration: on the one hand, as a system of criteria, that of Nelson Goodman and on</td>\n",
       "    </tr>\n",
       "    <tr>\n",
       "      <th id=\"T_05a0d_level0_row4\" class=\"row_heading level0 row4\" >4</th>\n",
       "      <td id=\"T_05a0d_row4_col0\" class=\"data row4 col0\" >the display of ambiguous and mysterious imagery.</td>\n",
       "    </tr>\n",
       "  </tbody>\n",
       "</table>\n"
      ],
      "text/plain": [
       "<pandas.io.formats.style.Styler at 0x174dee95010>"
      ]
     },
     "execution_count": 14,
     "metadata": {},
     "output_type": "execute_result"
    }
   ],
   "source": [
    "df.style.set_properties(**{'text-align': 'left'})"
   ]
  }
 ],
 "metadata": {
  "kernelspec": {
   "display_name": "Python 3",
   "language": "python",
   "name": "python3"
  },
  "language_info": {
   "codemirror_mode": {
    "name": "ipython",
    "version": 3
   },
   "file_extension": ".py",
   "mimetype": "text/x-python",
   "name": "python",
   "nbconvert_exporter": "python",
   "pygments_lexer": "ipython3",
   "version": "3.11.5"
  },
  "orig_nbformat": 4
 },
 "nbformat": 4,
 "nbformat_minor": 2
}
