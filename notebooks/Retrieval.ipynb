{
 "cells": [
  {
   "cell_type": "code",
   "execution_count": 1,
   "metadata": {},
   "outputs": [],
   "source": [
    "from sentence_transformers import SentenceTransformer, util\n",
    "from datasets import load_dataset\n",
    "import pandas as pd\n",
    "import numpy as np\n",
    "import torch"
   ]
  },
  {
   "cell_type": "code",
   "execution_count": 2,
   "metadata": {},
   "outputs": [],
   "source": [
    "wiki = load_dataset('wiki_snippets', 'wiki40b_en_100_0', split='train')\n",
    "eli5 = load_dataset('eli5', split='train_eli5')"
   ]
  },
  {
   "cell_type": "code",
   "execution_count": 3,
   "metadata": {},
   "outputs": [
    {
     "data": {
      "text/plain": [
       "247899"
      ]
     },
     "execution_count": 3,
     "metadata": {},
     "output_type": "execute_result"
    }
   ],
   "source": [
    "random_question_id = np.random.randint(0, len(eli5))\n",
    "random_question_id"
   ]
  },
  {
   "cell_type": "code",
   "execution_count": 4,
   "metadata": {},
   "outputs": [],
   "source": [
    "import psycopg2\n",
    "\n",
    "conn = psycopg2.connect(database=\"eli5\",\n",
    "                        host=\"127.0.0.1\",\n",
    "                        user=\"admin\",\n",
    "                        password=\"1234\",\n",
    "                        port=\"6000\")\n",
    "\n",
    "cursor = conn.cursor()\n",
    "\n",
    "query = 'SELECT * FROM wiki40b;'\n",
    "\n",
    "cursor.execute(query)\n",
    "data =cursor.fetchall()"
   ]
  },
  {
   "cell_type": "code",
   "execution_count": 5,
   "metadata": {},
   "outputs": [],
   "source": [
    "sbert_model = SentenceTransformer('sentence-transformers/bert-base-nli-mean-tokens')"
   ]
  },
  {
   "cell_type": "code",
   "execution_count": 6,
   "metadata": {},
   "outputs": [],
   "source": [
    "def sort_key(item):\n",
    "    return item[2]"
   ]
  },
  {
   "cell_type": "code",
   "execution_count": 7,
   "metadata": {},
   "outputs": [],
   "source": [
    "question = eli5[random_question_id]['title']\n",
    "q_embed = torch.Tensor(sbert_model.encode(question))"
   ]
  },
  {
   "cell_type": "code",
   "execution_count": 8,
   "metadata": {},
   "outputs": [],
   "source": [
    "for item_idx in range(len(data)):\n",
    "    ref_emb = data[item_idx][1]\n",
    "    ref = ref_emb[1:-1].split(',')\n",
    "    ref = torch.Tensor([float(x) for x in ref])\n",
    "    item_similarity = util.cos_sim(q_embed, ref)\n",
    "    data[item_idx] = data[item_idx] + (item_similarity,)\n",
    "data.sort(key = lambda row: row[2], reverse=True)"
   ]
  },
  {
   "cell_type": "code",
   "execution_count": 9,
   "metadata": {},
   "outputs": [],
   "source": [
    "top_5 = data[:5]"
   ]
  },
  {
   "cell_type": "code",
   "execution_count": 10,
   "metadata": {},
   "outputs": [],
   "source": [
    "df = pd.DataFrame({\n",
    "    question: [wiki[x]['passage_text'] for x in [x[0] for x in top_5]] \n",
    "}\n",
    ")"
   ]
  },
  {
   "cell_type": "code",
   "execution_count": 11,
   "metadata": {},
   "outputs": [
    {
     "data": {
      "text/html": [
       "<style type=\"text/css\">\n",
       "#T_75f61_row0_col0, #T_75f61_row1_col0, #T_75f61_row2_col0, #T_75f61_row3_col0, #T_75f61_row4_col0 {\n",
       "  text-align: left;\n",
       "}\n",
       "</style>\n",
       "<table id=\"T_75f61\">\n",
       "  <thead>\n",
       "    <tr>\n",
       "      <th class=\"blank level0\" >&nbsp;</th>\n",
       "      <th id=\"T_75f61_level0_col0\" class=\"col_heading level0 col0\" >How do ancient cities get buried and completely underground with time?</th>\n",
       "    </tr>\n",
       "  </thead>\n",
       "  <tbody>\n",
       "    <tr>\n",
       "      <th id=\"T_75f61_level0_row0\" class=\"row_heading level0 row0\" >0</th>\n",
       "      <td id=\"T_75f61_row0_col0\" class=\"data row0 col0\" >introduce new theories about how ancient civilizations lived and died, and to uncover the origin of each mummy.</td>\n",
       "    </tr>\n",
       "    <tr>\n",
       "      <th id=\"T_75f61_level0_row1\" class=\"row_heading level0 row1\" >1</th>\n",
       "      <td id=\"T_75f61_row1_col0\" class=\"data row1 col0\" >In the examples built before the l6th century the dome is covered with a conical or pyramidal spire. Most of these monuments are two storied. Concealed inside the base, half of which is below ground level, is a crypt; the latter is covered by a vault and its floor is earth. The deceased was buried in the earth. The crypt had small loop-hole windows. Description Kümbet Yaylası (\"Kuembet Plateau\") is reached via Giresun-Dereli-Şebinkarahisar route which is 60 km from Giresun city centrum. \n",
       "The Plateau of Kümbet is 1640 meters high and its southern part is in Alpine zone. The plateau has</td>\n",
       "    </tr>\n",
       "    <tr>\n",
       "      <th id=\"T_75f61_level0_row2\" class=\"row_heading level0 row2\" >2</th>\n",
       "      <td id=\"T_75f61_row2_col0\" class=\"data row2 col0\" >castle was provided with a girding wall and a well shaft. Nevertheless, the castle was forsaken before the Middle Ages had even ended, and hence, a written mention of it is nowhere to be found. In the 19th century, the knoll became the location for something else, a hard-stone quarry. The work there removed any remnant of the old castle that had lain there for centuries. Also unearthed at the site were pieces of Roman grave monuments, which might themselves have been used later to build the castle. In bygone centuries, the municipal area was a tangle of crisscrossing property</td>\n",
       "    </tr>\n",
       "    <tr>\n",
       "      <th id=\"T_75f61_level0_row3\" class=\"row_heading level0 row3\" >3</th>\n",
       "      <td id=\"T_75f61_row3_col0\" class=\"data row3 col0\" >what is now the main cave is relatively recent, and that some 350,000 years ago water sinking at Rumbling Hole followed a phreatic trunk route along the fault, entering Death's Head Hole at the end of East Passage, flowed across what is now the Main Chamber, into the passages below Big Meanie. From here the water flowed through a continuation of the now-blocked passage to Glasfurds Chamber in Gavel Pot, and hence to a resurgence in the Leck Beck Valley some 100 metres (330 ft) above the current resurgence, which is now covered with glacial till. History Balderstone described the entrance</td>\n",
       "    </tr>\n",
       "    <tr>\n",
       "      <th id=\"T_75f61_level0_row4\" class=\"row_heading level0 row4\" >4</th>\n",
       "      <td id=\"T_75f61_row4_col0\" class=\"data row4 col0\" >as a Grand Duke of Baldur's Gate would be held, and present evidence of his schemes. Exposed, Sarevok flees into an ancient underground ruin beneath Baldur's Gate, with the Ward and the party following after. The Ward confronts Sarevok within an ancient temple to Bhaal, and defeats him, saving the Sword Coast and ending their brother's schemes. In the final ending cinematic, Sarevok's tainted soul departs his body and travels deep underground to a large circular chamber of alcoves, and destroys a statue of himself contained in one of the alcoves, whereupon it is revealed that the other alcoves each</td>\n",
       "    </tr>\n",
       "  </tbody>\n",
       "</table>\n"
      ],
      "text/plain": [
       "<pandas.io.formats.style.Styler at 0x1b8660697d0>"
      ]
     },
     "execution_count": 11,
     "metadata": {},
     "output_type": "execute_result"
    }
   ],
   "source": [
    "df.style.set_properties(**{'text-align': 'left'})"
   ]
  }
 ],
 "metadata": {
  "kernelspec": {
   "display_name": "Python 3",
   "language": "python",
   "name": "python3"
  },
  "language_info": {
   "codemirror_mode": {
    "name": "ipython",
    "version": 3
   },
   "file_extension": ".py",
   "mimetype": "text/x-python",
   "name": "python",
   "nbconvert_exporter": "python",
   "pygments_lexer": "ipython3",
   "version": "3.11.5"
  },
  "orig_nbformat": 4
 },
 "nbformat": 4,
 "nbformat_minor": 2
}
